{
 "cells": [
  {
   "cell_type": "markdown",
   "id": "fff0b28a",
   "metadata": {},
   "source": [
    "## Agenda:\n",
    "\n",
    "- Reading dataset through pandas\n",
    "- Reading dataset through spark\n",
    "- Check columns\n",
    "- Check schema\n",
    "- DataFrame option Describe similar to pandas\n",
    "- Check data types\n",
    "- Selecting column/s\n",
    "- Adding column\n",
    "- Deleting column\n",
    "- Renaming column"
   ]
  },
  {
   "cell_type": "code",
   "execution_count": null,
   "id": "8b6f841c",
   "metadata": {},
   "outputs": [],
   "source": [
    "#  An error occurred while calling None.org.apache.spark.api.java.JavaSparkContext. -> Change JDK from latest to JDK 1.8\n",
    "import os\n",
    "os.environ['JAVA_HOME']=\"C:\\Program Files\\Java\\jdk1.8.0_211\""
   ]
  },
  {
   "cell_type": "markdown",
   "id": "7980340c",
   "metadata": {},
   "source": [
    "## Reading dataset through pandas"
   ]
  },
  {
   "cell_type": "code",
   "execution_count": null,
   "id": "5b5499e4",
   "metadata": {},
   "outputs": [],
   "source": [
    "import pandas as pd\n",
    "books_path = \"../assets/data.csv\"\n",
    "df = pd.read_csv(books_path)"
   ]
  },
  {
   "cell_type": "code",
   "execution_count": null,
   "id": "bfb172e3",
   "metadata": {},
   "outputs": [],
   "source": [
    "type(df)"
   ]
  },
  {
   "cell_type": "markdown",
   "id": "f5886d35",
   "metadata": {},
   "source": [
    "## Reading dataset through spark"
   ]
  },
  {
   "cell_type": "code",
   "execution_count": null,
   "id": "f59b9c92",
   "metadata": {},
   "outputs": [],
   "source": [
    "from pyspark.sql import SparkSession\n",
    "spark = SparkSession.builder.appName(\"Practice\").getOrCreate()"
   ]
  },
  {
   "cell_type": "code",
   "execution_count": null,
   "id": "9b958910",
   "metadata": {},
   "outputs": [],
   "source": [
    "# read the csv\n",
    "df_pyspark = spark.read.option('header','true').csv(books_path)"
   ]
  },
  {
   "cell_type": "markdown",
   "id": "f9e37149",
   "metadata": {},
   "source": [
    "## Check columns"
   ]
  },
  {
   "cell_type": "code",
   "execution_count": null,
   "id": "938fe021",
   "metadata": {
    "scrolled": true
   },
   "outputs": [],
   "source": [
    "df_pyspark.columns"
   ]
  },
  {
   "cell_type": "markdown",
   "id": "6e6d9dd8",
   "metadata": {},
   "source": [
    "## Check schema"
   ]
  },
  {
   "cell_type": "code",
   "execution_count": null,
   "id": "c6ef997c",
   "metadata": {},
   "outputs": [],
   "source": [
    "df_pyspark.printSchema()"
   ]
  },
  {
   "cell_type": "markdown",
   "id": "ec5a8437",
   "metadata": {},
   "source": [
    "## DataFrame option Describe similar to pandas"
   ]
  },
  {
   "cell_type": "code",
   "execution_count": null,
   "id": "f3ae597f",
   "metadata": {},
   "outputs": [],
   "source": [
    "# check the data values\n",
    "#df_pyspark.describe()\n",
    "df_pyspark.describe().toPandas() # be careful with large dataframes!"
   ]
  },
  {
   "cell_type": "markdown",
   "id": "3252ae21",
   "metadata": {},
   "source": [
    "## Check data types"
   ]
  },
  {
   "cell_type": "code",
   "execution_count": null,
   "id": "e36cac18",
   "metadata": {},
   "outputs": [],
   "source": [
    "# check data types\n",
    "print(df_pyspark.dtypes)"
   ]
  },
  {
   "cell_type": "code",
   "execution_count": null,
   "id": "6cea5d86",
   "metadata": {},
   "outputs": [],
   "source": [
    "# check type of dataset ( => dataframe)\n",
    "print(type(df_pyspark))"
   ]
  },
  {
   "cell_type": "markdown",
   "id": "cf4f5cef",
   "metadata": {},
   "source": [
    "## Reading with inferSchema (for csv)"
   ]
  },
  {
   "cell_type": "code",
   "execution_count": null,
   "id": "62d01f7d",
   "metadata": {},
   "outputs": [],
   "source": [
    "df_pyspark = spark.read.option('header','true').csv(books_path, inferSchema=True)\n",
    "df_pyspark.printSchema()"
   ]
  },
  {
   "cell_type": "markdown",
   "id": "86a061c0",
   "metadata": {},
   "source": [
    "## Selecting column/s"
   ]
  },
  {
   "cell_type": "code",
   "execution_count": null,
   "id": "c97cfeff",
   "metadata": {},
   "outputs": [],
   "source": [
    "#df_pyspark.select('title')\n",
    "#df_pyspark.select('title').show(10)\n",
    "#type(df_pyspark.select('title'))\n",
    "\n",
    "#df_pyspark.select(['title','author'])\n",
    "#df_pyspark.select(['title','author']).show(10)\n",
    "#type(df_pyspark.select(['title','author']))"
   ]
  },
  {
   "cell_type": "code",
   "execution_count": null,
   "id": "184fab73",
   "metadata": {},
   "outputs": [],
   "source": [
    "print(df_pyspark['title'])"
   ]
  },
  {
   "cell_type": "markdown",
   "id": "f4588c65",
   "metadata": {},
   "source": [
    "### Add a column"
   ]
  },
  {
   "cell_type": "code",
   "execution_count": null,
   "id": "663bff87",
   "metadata": {},
   "outputs": [],
   "source": [
    "import pyspark.sql.functions as f\n",
    "f.col('edition')"
   ]
  },
  {
   "cell_type": "code",
   "execution_count": null,
   "id": "359cee2b",
   "metadata": {},
   "outputs": [],
   "source": [
    "df_pyspark = df_pyspark.withColumn(\"edition2\",f.concat(f.lit('2 '), f.col('edition')))"
   ]
  },
  {
   "cell_type": "code",
   "execution_count": null,
   "id": "b1b2181d",
   "metadata": {},
   "outputs": [],
   "source": [
    "df_pyspark.filter(f.col('edition').isNotNull()).select(['edition', 'edition2']).show()"
   ]
  },
  {
   "cell_type": "markdown",
   "id": "0f488a18",
   "metadata": {},
   "source": [
    "### Drop column"
   ]
  },
  {
   "cell_type": "code",
   "execution_count": null,
   "id": "e7bec043",
   "metadata": {},
   "outputs": [],
   "source": [
    "df_pyspark = df_pyspark.drop('edition2')"
   ]
  },
  {
   "cell_type": "code",
   "execution_count": null,
   "id": "8048a69e",
   "metadata": {},
   "outputs": [],
   "source": [
    "df_pyspark.printSchema()"
   ]
  },
  {
   "cell_type": "markdown",
   "id": "067fa6ea",
   "metadata": {},
   "source": [
    "### Rename column"
   ]
  },
  {
   "cell_type": "code",
   "execution_count": null,
   "id": "b7a4b028",
   "metadata": {},
   "outputs": [],
   "source": [
    "df_pyspark = df_pyspark.withColumnRenamed(\"title\", \"new title\")"
   ]
  },
  {
   "cell_type": "code",
   "execution_count": null,
   "id": "438aa315",
   "metadata": {},
   "outputs": [],
   "source": [
    "df_pyspark.columns"
   ]
  }
 ],
 "metadata": {
  "kernelspec": {
   "display_name": "Python 3 (ipykernel)",
   "language": "python",
   "name": "python3"
  },
  "language_info": {
   "codemirror_mode": {
    "name": "ipython",
    "version": 3
   },
   "file_extension": ".py",
   "mimetype": "text/x-python",
   "name": "python",
   "nbconvert_exporter": "python",
   "pygments_lexer": "ipython3",
   "version": "3.9.6"
  }
 },
 "nbformat": 4,
 "nbformat_minor": 5
}
